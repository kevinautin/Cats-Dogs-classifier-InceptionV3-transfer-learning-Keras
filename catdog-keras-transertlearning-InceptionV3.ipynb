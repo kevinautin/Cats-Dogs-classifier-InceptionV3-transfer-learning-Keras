{
  "cells": [
    {
      "metadata": {
        "_uuid": "8f2839f25d086af736a60e9eeb907d3b93b6e0e5",
        "_cell_guid": "b1076dfc-b9ad-4769-8c92-a6c4dae69d19",
        "trusted": true
      },
      "cell_type": "code",
      "source": "import os\nimport sys\nimport glob\nimport matplotlib\n%matplotlib inline\nimport matplotlib.pyplot as plt\nfrom tqdm import tqdm\nimport shutil\nfrom keras import backend as K\nfrom keras.applications.inception_v3 import InceptionV3\nfrom keras.models import Model\nfrom keras.layers import *\nfrom keras.preprocessing.image import ImageDataGenerator\nimport tensorflow as tf\nimport numpy as np\nimport pandas as pd\nfrom random import shuffle\n",
      "execution_count": 24,
      "outputs": []
    },
    {
      "metadata": {
        "trusted": true,
        "_uuid": "0b334248f2cdd63f22844a3a23090ef3b57fcf52"
      },
      "cell_type": "code",
      "source": "def create_dir(directory):\n    \"\"\"Creates a directory.\n    Args:\n        directory(str): Path of the directory to create.\n    \"\"\"\n    try:\n        if not os.path.exists(directory):\n            os.makedirs(directory)\n    except OSError:\n        print ('Error: Creating directory. ' +  directory)",
      "execution_count": 20,
      "outputs": [
        {
          "output_type": "execute_result",
          "execution_count": 20,
          "data": {
            "text/plain": "'Creates a directory.\\nArgs:\\n    directory(str): Path of the directory to create.\\n'"
          },
          "metadata": {}
        }
      ]
    },
    {
      "metadata": {
        "trusted": true,
        "_uuid": "f96cf452c19ceac5402de3b5c5cbfee72b3b52e2"
      },
      "cell_type": "code",
      "source": "def get_nb_files(directory):\n    \"\"\"Get number of files by searching directory recursively\n\n    Args:\n        directory(str): Path of the directory.\n    \"\"\"\n    if not os.path.exists(directory):\n        return 0\n    cnt = 0\n    for r, dirs, files in os.walk(directory):\n        for dr in dirs:\n            cnt += len(glob.glob(os.path.join(r, dr + \"/*\")))\n    return cnt",
      "execution_count": 21,
      "outputs": []
    },
    {
      "metadata": {
        "trusted": true,
        "_uuid": "967247372a9012b8899ff2193b6a407cc253ef01"
      },
      "cell_type": "code",
      "source": "# Create directories to separate pictures of cats and dogs based on their labels.\nDIRALLDATA = \"../input/train\"\nDIRTRAINCAT = \"train/cat\"\nDIRTRAINDOG = \"train/dog\"\nDIRVALCAT = \"val/cat\"\nDIRVALDOG = \"val/dog\"\n\ncreate_dir(DIRTRAINCAT)\ncreate_dir(DIRTRAINDOG)\ncreate_dir(DIRVALCAT)\ncreate_dir(DIRVALDOG)\n\nfor img in tqdm(os.listdir(DIRALLDATA)):\n    label = img.split('.')[0]\n    if label == 'cat':\n        if len([name for name in os.listdir(DIRTRAINCAT) if os.path.isfile(os.path.join(DIRTRAINCAT, name))]) < 10000:\n            shutil.copy(os.path.join(DIRALLDATA, img), DIRTRAINCAT)\n        else:\n            shutil.copy(os.path.join(DIRALLDATA, img), DIRVALCAT)\n    elif label == 'dog':\n        if len([name for name in os.listdir(DIRTRAINDOG) if os.path.isfile(os.path.join(DIRTRAINDOG, name))]) < 10000:\n            shutil.copy(os.path.join(DIRALLDATA, img), DIRTRAINDOG)\n        else:\n            shutil.copy(os.path.join(DIRALLDATA, img), DIRVALDOG)",
      "execution_count": 22,
      "outputs": [
        {
          "output_type": "stream",
          "text": "100%|██████████| 25000/25000 [11:58<00:00, 34.77it/s]\n",
          "name": "stderr"
        }
      ]
    },
    {
      "metadata": {
        "trusted": true,
        "_uuid": "c294f90248dd7bff433d888d39ab8ca7128bc49d"
      },
      "cell_type": "code",
      "source": "# Data preprocessing and augmentation\n\ntrain_img = 'train' \nvalidation_img = 'val'\nnb_train_samples = get_nb_files(train_img)\nnb_classes = len(glob.glob(train_img + \"/*\"))\n\n# Parameters for the image augmentation for the train data.\ntrain_datagen = ImageDataGenerator(\n    rescale=1./255)\n\"\"\"    rotation_range=40,\n    width_shift_range=0.2,\n    height_shift_range=0.2,\n    rescale=1./255,\n    shear_range=0.2,\n    zoom_range=0.2,\n    horizontal_flip=True,\n    fill_mode='nearest')\"\"\"\n\nvalidation_datagen = ImageDataGenerator(\n    rescale=1./255)\n\n# Image generator.\n# Will pick batches of images directly from the directory,\n# apply data augmenation on them and label them according \n# to the directory they were picked from.\ntrain_generator = train_datagen.flow_from_directory(\n    train_img,\n    batch_size=32,\n    class_mode='categorical')\nvalidation_generator = validation_datagen.flow_from_directory(\n    validation_img,\n    batch_size=32,\n    class_mode='categorical')    ",
      "execution_count": 30,
      "outputs": [
        {
          "output_type": "stream",
          "text": "Found 20000 images belonging to 2 classes.\nFound 5000 images belonging to 2 classes.\n",
          "name": "stdout"
        }
      ]
    },
    {
      "metadata": {
        "trusted": true,
        "_uuid": "7eb2541dac4f340f46bb5cffbf0f92f1ec6168c5"
      },
      "cell_type": "code",
      "source": "# CNN classifier with transfer learning from InceptionV3.\n\ninput = Input((None, None, 3))\nnet = InceptionV3(include_top=False, weights='imagenet')(input)\n#net = Conv2D(32, 3, padding='same', activation='relu')(net)\nnet = Conv2D(2, 1)(net)\nnet = GlobalAveragePooling2D()(net)\noutput = Activation('softmax')(net)\n\nmodel = Model(inputs = input, outputs = output)\n#Freezing InceptionV3.\nmodel.layers[1].trainable=False\nmodel.compile(optimizer='adam', loss='categorical_crossentropy', metrics=['acc'])\nmodel.summary()",
      "execution_count": null,
      "outputs": []
    },
    {
      "metadata": {
        "trusted": true,
        "_uuid": "67aeff9eeccd57e6bde70331d5ae31af9405f4c9",
        "scrolled": true
      },
      "cell_type": "code",
      "source": "# Training and evaluation.\nmodel.fit_generator(train_generator,\n                    steps_per_epoch= 20000 // 32,\n                    epochs=3,\n                    validation_data=validation_generator,\n                    validation_steps=100) ",
      "execution_count": 32,
      "outputs": [
        {
          "output_type": "stream",
          "text": "Epoch 1/3\n625/625 [==============================] - 177s 283ms/step - loss: 0.1625 - acc: 0.9371 - val_loss: 0.0683 - val_acc: 0.9800\nEpoch 2/3\n625/625 [==============================] - 165s 264ms/step - loss: 0.1184 - acc: 0.9545 - val_loss: 0.0414 - val_acc: 0.9899\nEpoch 3/3\n625/625 [==============================] - 165s 264ms/step - loss: 0.1091 - acc: 0.9567 - val_loss: 0.0638 - val_acc: 0.9819\n",
          "name": "stdout"
        },
        {
          "output_type": "execute_result",
          "execution_count": 32,
          "data": {
            "text/plain": "<keras.callbacks.History at 0x7faeb548a7f0>"
          },
          "metadata": {}
        }
      ]
    }
  ],
  "metadata": {
    "kernelspec": {
      "display_name": "Python 3",
      "language": "python",
      "name": "python3"
    },
    "language_info": {
      "name": "python",
      "version": "3.6.6",
      "mimetype": "text/x-python",
      "codemirror_mode": {
        "name": "ipython",
        "version": 3
      },
      "pygments_lexer": "ipython3",
      "nbconvert_exporter": "python",
      "file_extension": ".py"
    }
  },
  "nbformat": 4,
  "nbformat_minor": 1
}